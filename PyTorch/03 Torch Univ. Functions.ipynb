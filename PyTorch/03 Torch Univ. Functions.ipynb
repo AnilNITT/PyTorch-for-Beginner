{
 "cells": [
  {
   "cell_type": "markdown",
   "metadata": {
    "colab_type": "text",
    "id": "91MwaS_NalD0"
   },
   "source": [
    "# Universal functions"
   ]
  },
  {
   "cell_type": "code",
   "execution_count": 3,
   "metadata": {
    "colab": {},
    "colab_type": "code",
    "id": "VhthwMexvN1Z"
   },
   "outputs": [],
   "source": [
    "import torch as t"
   ]
  },
  {
   "cell_type": "code",
   "execution_count": null,
   "metadata": {
    "colab": {
     "base_uri": "https://localhost:8080/",
     "height": 51
    },
    "colab_type": "code",
    "executionInfo": {
     "elapsed": 1014,
     "status": "ok",
     "timestamp": 1572954898053,
     "user": {
      "displayName": "anil patidar",
      "photoUrl": "https://lh3.googleusercontent.com/a-/AAuE7mBOpNM26lFln0sQCl4yOtCwHeImpsg3tBaiaNYFrkw=s64",
      "userId": "09103336182194663163"
     },
     "user_tz": -330
    },
    "id": "KYOaIiwFvN1m",
    "outputId": "91c30bfe-8ea5-4966-d28b-9c669862db34"
   },
   "outputs": [
    {
     "data": {
      "text/plain": [
       "tensor([[0.6504, 0.6775],\n",
       "        [0.9283, 0.2709]])"
      ]
     },
     "execution_count": 5,
     "metadata": {
      "tags": []
     },
     "output_type": "execute_result"
    }
   ],
   "source": [
    "a=t.rand((2,2))\n",
    "a"
   ]
  },
  {
   "cell_type": "code",
   "execution_count": null,
   "metadata": {
    "colab": {
     "base_uri": "https://localhost:8080/",
     "height": 51
    },
    "colab_type": "code",
    "executionInfo": {
     "elapsed": 937,
     "status": "ok",
     "timestamp": 1572954923469,
     "user": {
      "displayName": "anil patidar",
      "photoUrl": "https://lh3.googleusercontent.com/a-/AAuE7mBOpNM26lFln0sQCl4yOtCwHeImpsg3tBaiaNYFrkw=s64",
      "userId": "09103336182194663163"
     },
     "user_tz": -330
    },
    "id": "_2Rsm4FFvN12",
    "outputId": "2c178c2b-21c7-480f-8581-a463daacb847"
   },
   "outputs": [
    {
     "data": {
      "text/plain": [
       "tensor([[ 0.0885,  0.5305],\n",
       "        [-0.0991,  0.2655]])"
      ]
     },
     "execution_count": 8,
     "metadata": {
      "tags": []
     },
     "output_type": "execute_result"
    }
   ],
   "source": [
    "b=t.randn((2,2))\n",
    "b"
   ]
  },
  {
   "cell_type": "code",
   "execution_count": null,
   "metadata": {
    "colab": {
     "base_uri": "https://localhost:8080/",
     "height": 183
    },
    "colab_type": "code",
    "executionInfo": {
     "elapsed": 950,
     "status": "error",
     "timestamp": 1572954954041,
     "user": {
      "displayName": "anil patidar",
      "photoUrl": "https://lh3.googleusercontent.com/a-/AAuE7mBOpNM26lFln0sQCl4yOtCwHeImpsg3tBaiaNYFrkw=s64",
      "userId": "09103336182194663163"
     },
     "user_tz": -330
    },
    "id": "yWRlH7Y4vN16",
    "outputId": "65b018f8-7296-4df9-eadc-e6c0803f1a19"
   },
   "outputs": [
    {
     "ename": "AttributeError",
     "evalue": "ignored",
     "output_type": "error",
     "traceback": [
      "\u001b[0;31m---------------------------------------------------------------------------\u001b[0m",
      "\u001b[0;31mAttributeError\u001b[0m                            Traceback (most recent call last)",
      "\u001b[0;32m<ipython-input-13-5de5f36c74a3>\u001b[0m in \u001b[0;36m<module>\u001b[0;34m()\u001b[0m\n\u001b[0;32m----> 1\u001b[0;31m \u001b[0mt\u001b[0m\u001b[0;34m.\u001b[0m\u001b[0mrandom\u001b[0m\u001b[0;34m.\u001b[0m\u001b[0mrandom\u001b[0m\u001b[0;34m(\u001b[0m\u001b[0;34m(\u001b[0m\u001b[0;36m2\u001b[0m\u001b[0;34m,\u001b[0m\u001b[0;36m3\u001b[0m\u001b[0;34m)\u001b[0m\u001b[0;34m)\u001b[0m\u001b[0;34m\u001b[0m\u001b[0;34m\u001b[0m\u001b[0m\n\u001b[0m",
      "\u001b[0;31mAttributeError\u001b[0m: module 'torch.random' has no attribute 'random'"
     ]
    }
   ],
   "source": [
    "t.random.random((2,3))"
   ]
  },
  {
   "cell_type": "code",
   "execution_count": null,
   "metadata": {
    "colab": {
     "base_uri": "https://localhost:8080/",
     "height": 85
    },
    "colab_type": "code",
    "executionInfo": {
     "elapsed": 1012,
     "status": "ok",
     "timestamp": 1572954987434,
     "user": {
      "displayName": "anil patidar",
      "photoUrl": "https://lh3.googleusercontent.com/a-/AAuE7mBOpNM26lFln0sQCl4yOtCwHeImpsg3tBaiaNYFrkw=s64",
      "userId": "09103336182194663163"
     },
     "user_tz": -330
    },
    "id": "cSyXVISLvN2C",
    "outputId": "810e2bb6-75f1-4f41-9ce0-c3fb860e7459"
   },
   "outputs": [
    {
     "data": {
      "text/plain": [
       "tensor([[0.8436, 0.4253, 0.8911, 0.1314],\n",
       "        [0.4452, 0.1913, 0.8537, 0.5600],\n",
       "        [0.4635, 0.4139, 0.4573, 0.8944],\n",
       "        [0.4906, 0.1030, 0.4956, 0.3555]])"
      ]
     },
     "execution_count": 14,
     "metadata": {
      "tags": []
     },
     "output_type": "execute_result"
    }
   ],
   "source": [
    "a=t.rand((4,4))\n",
    "a"
   ]
  },
  {
   "cell_type": "markdown",
   "metadata": {
    "colab_type": "text",
    "id": "a3hg6gV_bWZ8"
   },
   "source": [
    "## sum"
   ]
  },
  {
   "cell_type": "code",
   "execution_count": null,
   "metadata": {
    "colab": {
     "base_uri": "https://localhost:8080/",
     "height": 34
    },
    "colab_type": "code",
    "executionInfo": {
     "elapsed": 1098,
     "status": "ok",
     "timestamp": 1572955065272,
     "user": {
      "displayName": "anil patidar",
      "photoUrl": "https://lh3.googleusercontent.com/a-/AAuE7mBOpNM26lFln0sQCl4yOtCwHeImpsg3tBaiaNYFrkw=s64",
      "userId": "09103336182194663163"
     },
     "user_tz": -330
    },
    "id": "empyXgXgvN2M",
    "outputId": "174740d2-f5db-4c7a-995d-d20da98ec2db"
   },
   "outputs": [
    {
     "name": "stdout",
     "output_type": "stream",
     "text": [
      "tensor(8.0152)\n"
     ]
    }
   ],
   "source": [
    "print(t.sum(a))"
   ]
  },
  {
   "cell_type": "code",
   "execution_count": null,
   "metadata": {
    "colab": {
     "base_uri": "https://localhost:8080/",
     "height": 34
    },
    "colab_type": "code",
    "executionInfo": {
     "elapsed": 990,
     "status": "ok",
     "timestamp": 1572955065742,
     "user": {
      "displayName": "anil patidar",
      "photoUrl": "https://lh3.googleusercontent.com/a-/AAuE7mBOpNM26lFln0sQCl4yOtCwHeImpsg3tBaiaNYFrkw=s64",
      "userId": "09103336182194663163"
     },
     "user_tz": -330
    },
    "id": "s3CjrGvpvN2R",
    "outputId": "480e1a89-3ffe-4159-ee21-25cd773de25f"
   },
   "outputs": [
    {
     "data": {
      "text/plain": [
       "tensor([2.2428, 1.1335, 2.6977, 1.9412])"
      ]
     },
     "execution_count": 21,
     "metadata": {
      "tags": []
     },
     "output_type": "execute_result"
    }
   ],
   "source": [
    "a.sum(axis=0)"
   ]
  },
  {
   "cell_type": "code",
   "execution_count": null,
   "metadata": {
    "colab": {
     "base_uri": "https://localhost:8080/",
     "height": 34
    },
    "colab_type": "code",
    "executionInfo": {
     "elapsed": 924,
     "status": "ok",
     "timestamp": 1572955066122,
     "user": {
      "displayName": "anil patidar",
      "photoUrl": "https://lh3.googleusercontent.com/a-/AAuE7mBOpNM26lFln0sQCl4yOtCwHeImpsg3tBaiaNYFrkw=s64",
      "userId": "09103336182194663163"
     },
     "user_tz": -330
    },
    "id": "tKVkBisQbPbU",
    "outputId": "1e124917-31af-4c49-a36e-4112e3cdb713"
   },
   "outputs": [
    {
     "data": {
      "text/plain": [
       "tensor([2.2914, 2.0502, 2.2290, 1.4446])"
      ]
     },
     "execution_count": 22,
     "metadata": {
      "tags": []
     },
     "output_type": "execute_result"
    }
   ],
   "source": [
    "a.sum(axis=1)"
   ]
  },
  {
   "cell_type": "markdown",
   "metadata": {
    "colab_type": "text",
    "id": "AJkGEGKLbb8Z"
   },
   "source": [
    "## min"
   ]
  },
  {
   "cell_type": "code",
   "execution_count": null,
   "metadata": {
    "colab": {
     "base_uri": "https://localhost:8080/",
     "height": 34
    },
    "colab_type": "code",
    "executionInfo": {
     "elapsed": 1114,
     "status": "ok",
     "timestamp": 1572955140670,
     "user": {
      "displayName": "anil patidar",
      "photoUrl": "https://lh3.googleusercontent.com/a-/AAuE7mBOpNM26lFln0sQCl4yOtCwHeImpsg3tBaiaNYFrkw=s64",
      "userId": "09103336182194663163"
     },
     "user_tz": -330
    },
    "id": "uyDjkPKJbUAF",
    "outputId": "06ab936b-90aa-45d6-c7d0-acd1d91395f9"
   },
   "outputs": [
    {
     "data": {
      "text/plain": [
       "tensor(0.1030)"
      ]
     },
     "execution_count": 28,
     "metadata": {
      "tags": []
     },
     "output_type": "execute_result"
    }
   ],
   "source": [
    "a.min()"
   ]
  },
  {
   "cell_type": "code",
   "execution_count": null,
   "metadata": {
    "colab": {
     "base_uri": "https://localhost:8080/",
     "height": 68
    },
    "colab_type": "code",
    "executionInfo": {
     "elapsed": 1037,
     "status": "ok",
     "timestamp": 1572955277749,
     "user": {
      "displayName": "anil patidar",
      "photoUrl": "https://lh3.googleusercontent.com/a-/AAuE7mBOpNM26lFln0sQCl4yOtCwHeImpsg3tBaiaNYFrkw=s64",
      "userId": "09103336182194663163"
     },
     "user_tz": -330
    },
    "id": "WGr143PPbf0x",
    "outputId": "fed3a3e5-0529-42d9-bbc9-8bb0518a7f81"
   },
   "outputs": [
    {
     "name": "stdout",
     "output_type": "stream",
     "text": [
      "torch.return_types.min(\n",
      "values=tensor([0.4452, 0.1030, 0.4573, 0.1314]),\n",
      "indices=tensor([1, 3, 2, 0]))\n"
     ]
    }
   ],
   "source": [
    "print(a.min(axis=0))  # also print value with its indexes"
   ]
  },
  {
   "cell_type": "code",
   "execution_count": null,
   "metadata": {
    "colab": {
     "base_uri": "https://localhost:8080/",
     "height": 54
    },
    "colab_type": "code",
    "executionInfo": {
     "elapsed": 697,
     "status": "ok",
     "timestamp": 1572955140677,
     "user": {
      "displayName": "anil patidar",
      "photoUrl": "https://lh3.googleusercontent.com/a-/AAuE7mBOpNM26lFln0sQCl4yOtCwHeImpsg3tBaiaNYFrkw=s64",
      "userId": "09103336182194663163"
     },
     "user_tz": -330
    },
    "id": "FBEuwuSlbhdo",
    "outputId": "593f6577-0a0e-49e1-c91a-85e06170dfd9"
   },
   "outputs": [
    {
     "data": {
      "text/plain": [
       "torch.return_types.min(values=tensor([0.1314, 0.1913, 0.4139, 0.1030]), indices=tensor([3, 1, 1, 1]))"
      ]
     },
     "execution_count": 30,
     "metadata": {
      "tags": []
     },
     "output_type": "execute_result"
    }
   ],
   "source": [
    "a.min(axis=1)"
   ]
  },
  {
   "cell_type": "markdown",
   "metadata": {
    "colab_type": "text",
    "id": "UfSSBiC9bs01"
   },
   "source": [
    "## Max"
   ]
  },
  {
   "cell_type": "code",
   "execution_count": null,
   "metadata": {
    "colab": {
     "base_uri": "https://localhost:8080/",
     "height": 85
    },
    "colab_type": "code",
    "executionInfo": {
     "elapsed": 884,
     "status": "ok",
     "timestamp": 1572955165453,
     "user": {
      "displayName": "anil patidar",
      "photoUrl": "https://lh3.googleusercontent.com/a-/AAuE7mBOpNM26lFln0sQCl4yOtCwHeImpsg3tBaiaNYFrkw=s64",
      "userId": "09103336182194663163"
     },
     "user_tz": -330
    },
    "id": "pPyxG1CKblq1",
    "outputId": "505f4b5d-4af4-4660-a6f4-7c8343084da5"
   },
   "outputs": [
    {
     "data": {
      "text/plain": [
       "tensor([[0.8436, 0.4253, 0.8911, 0.1314],\n",
       "        [0.4452, 0.1913, 0.8537, 0.5600],\n",
       "        [0.4635, 0.4139, 0.4573, 0.8944],\n",
       "        [0.4906, 0.1030, 0.4956, 0.3555]])"
      ]
     },
     "execution_count": 32,
     "metadata": {
      "tags": []
     },
     "output_type": "execute_result"
    }
   ],
   "source": [
    "a"
   ]
  },
  {
   "cell_type": "code",
   "execution_count": null,
   "metadata": {
    "colab": {
     "base_uri": "https://localhost:8080/",
     "height": 34
    },
    "colab_type": "code",
    "executionInfo": {
     "elapsed": 1212,
     "status": "ok",
     "timestamp": 1572955170625,
     "user": {
      "displayName": "anil patidar",
      "photoUrl": "https://lh3.googleusercontent.com/a-/AAuE7mBOpNM26lFln0sQCl4yOtCwHeImpsg3tBaiaNYFrkw=s64",
      "userId": "09103336182194663163"
     },
     "user_tz": -330
    },
    "id": "3XVvqGA6bw77",
    "outputId": "17336026-ca4f-4a9e-e07e-5cfc5704ded6"
   },
   "outputs": [
    {
     "data": {
      "text/plain": [
       "tensor(0.8944)"
      ]
     },
     "execution_count": 33,
     "metadata": {
      "tags": []
     },
     "output_type": "execute_result"
    }
   ],
   "source": [
    "a.max()"
   ]
  },
  {
   "cell_type": "code",
   "execution_count": null,
   "metadata": {
    "colab": {
     "base_uri": "https://localhost:8080/",
     "height": 68
    },
    "colab_type": "code",
    "executionInfo": {
     "elapsed": 1010,
     "status": "ok",
     "timestamp": 1572955217769,
     "user": {
      "displayName": "anil patidar",
      "photoUrl": "https://lh3.googleusercontent.com/a-/AAuE7mBOpNM26lFln0sQCl4yOtCwHeImpsg3tBaiaNYFrkw=s64",
      "userId": "09103336182194663163"
     },
     "user_tz": -330
    },
    "id": "fVoCjJQ9bx9c",
    "outputId": "06343855-57e6-48be-ef49-8c28ad5c2868"
   },
   "outputs": [
    {
     "name": "stdout",
     "output_type": "stream",
     "text": [
      "torch.return_types.max(\n",
      "values=tensor([0.8436, 0.4253, 0.8911, 0.8944]),\n",
      "indices=tensor([0, 0, 0, 2]))\n"
     ]
    }
   ],
   "source": [
    "print(a.max(axis=0))  # with max also print its correpondece index also"
   ]
  },
  {
   "cell_type": "code",
   "execution_count": null,
   "metadata": {
    "colab": {
     "base_uri": "https://localhost:8080/",
     "height": 68
    },
    "colab_type": "code",
    "executionInfo": {
     "elapsed": 1001,
     "status": "ok",
     "timestamp": 1572955198860,
     "user": {
      "displayName": "anil patidar",
      "photoUrl": "https://lh3.googleusercontent.com/a-/AAuE7mBOpNM26lFln0sQCl4yOtCwHeImpsg3tBaiaNYFrkw=s64",
      "userId": "09103336182194663163"
     },
     "user_tz": -330
    },
    "id": "Dx8CHYVEbzwa",
    "outputId": "5982f62b-e108-4bf3-b444-5783b40e0a17"
   },
   "outputs": [
    {
     "name": "stdout",
     "output_type": "stream",
     "text": [
      "torch.return_types.max(\n",
      "values=tensor([0.8911, 0.8537, 0.8944, 0.4956]),\n",
      "indices=tensor([2, 2, 3, 2]))\n"
     ]
    }
   ],
   "source": [
    "print(a.max(axis=1))"
   ]
  },
  {
   "cell_type": "markdown",
   "metadata": {
    "colab_type": "text",
    "id": "UIHAFDNxcWXb"
   },
   "source": [
    "## Cumlative sum"
   ]
  },
  {
   "cell_type": "code",
   "execution_count": null,
   "metadata": {
    "colab": {
     "base_uri": "https://localhost:8080/",
     "height": 68
    },
    "colab_type": "code",
    "executionInfo": {
     "elapsed": 1017,
     "status": "ok",
     "timestamp": 1572955349396,
     "user": {
      "displayName": "anil patidar",
      "photoUrl": "https://lh3.googleusercontent.com/a-/AAuE7mBOpNM26lFln0sQCl4yOtCwHeImpsg3tBaiaNYFrkw=s64",
      "userId": "09103336182194663163"
     },
     "user_tz": -330
    },
    "id": "tbZc-P5Lb2HX",
    "outputId": "3bf0027a-ae5f-47e2-f84c-49033af728da"
   },
   "outputs": [
    {
     "data": {
      "text/plain": [
       "tensor([[1, 2, 3],\n",
       "        [4, 5, 6],\n",
       "        [7, 8, 9]])"
      ]
     },
     "execution_count": 40,
     "metadata": {
      "tags": []
     },
     "output_type": "execute_result"
    }
   ],
   "source": [
    "a=t.tensor([[1,2,3],[4,5,6],[7,8,9]])\n",
    "a"
   ]
  },
  {
   "cell_type": "code",
   "execution_count": null,
   "metadata": {
    "colab": {
     "base_uri": "https://localhost:8080/",
     "height": 119
    },
    "colab_type": "code",
    "executionInfo": {
     "elapsed": 920,
     "status": "ok",
     "timestamp": 1572955905510,
     "user": {
      "displayName": "anil patidar",
      "photoUrl": "https://lh3.googleusercontent.com/a-/AAuE7mBOpNM26lFln0sQCl4yOtCwHeImpsg3tBaiaNYFrkw=s64",
      "userId": "09103336182194663163"
     },
     "user_tz": -330
    },
    "id": "SV3eXZANcdtC",
    "outputId": "3ef6983d-ed12-4fb6-e9c6-ca1e1e7570ba"
   },
   "outputs": [
    {
     "name": "stdout",
     "output_type": "stream",
     "text": [
      "tensor([[ 1,  2,  3],\n",
      "        [ 5,  7,  9],\n",
      "        [12, 15, 18]])\n",
      "tensor([[ 1,  2,  3],\n",
      "        [ 5,  7,  9],\n",
      "        [12, 15, 18]])\n"
     ]
    }
   ],
   "source": [
    "# cumsum accord to column wise\n",
    "print(a.cumsum(axis=0))   # both are same bcoz (col,row)=(0,1) \n",
    "print(a.cumsum(axis=-2))  # (col,row)=(-2,-1)\n",
    "# its 2D array so find out its vice versa axis for same outpit subtract 2 from axis\n"
   ]
  },
  {
   "cell_type": "code",
   "execution_count": null,
   "metadata": {
    "colab": {
     "base_uri": "https://localhost:8080/",
     "height": 119
    },
    "colab_type": "code",
    "executionInfo": {
     "elapsed": 763,
     "status": "ok",
     "timestamp": 1572955970841,
     "user": {
      "displayName": "anil patidar",
      "photoUrl": "https://lh3.googleusercontent.com/a-/AAuE7mBOpNM26lFln0sQCl4yOtCwHeImpsg3tBaiaNYFrkw=s64",
      "userId": "09103336182194663163"
     },
     "user_tz": -330
    },
    "id": "yRU4viqdea4U",
    "outputId": "cb426e90-50bb-4612-c926-e1d2db30c02e"
   },
   "outputs": [
    {
     "name": "stdout",
     "output_type": "stream",
     "text": [
      "tensor([[ 1,  3,  6],\n",
      "        [ 4,  9, 15],\n",
      "        [ 7, 15, 24]])\n",
      "tensor([[ 1,  3,  6],\n",
      "        [ 4,  9, 15],\n",
      "        [ 7, 15, 24]])\n"
     ]
    }
   ],
   "source": [
    "# cumsum accord to row wise\n",
    "print(a.cumsum(axis=1))\n",
    "print(a.cumsum(axis=-1))"
   ]
  },
  {
   "cell_type": "markdown",
   "metadata": {
    "colab_type": "text",
    "id": "7iHdtQ9fe2UH"
   },
   "source": [
    "## cumlative product"
   ]
  },
  {
   "cell_type": "code",
   "execution_count": null,
   "metadata": {
    "colab": {
     "base_uri": "https://localhost:8080/",
     "height": 68
    },
    "colab_type": "code",
    "executionInfo": {
     "elapsed": 1039,
     "status": "ok",
     "timestamp": 1572956018512,
     "user": {
      "displayName": "anil patidar",
      "photoUrl": "https://lh3.googleusercontent.com/a-/AAuE7mBOpNM26lFln0sQCl4yOtCwHeImpsg3tBaiaNYFrkw=s64",
      "userId": "09103336182194663163"
     },
     "user_tz": -330
    },
    "id": "AfP-V8kJe1ku",
    "outputId": "533f2ce6-7f5c-4d96-da79-804aac6783c5"
   },
   "outputs": [
    {
     "data": {
      "text/plain": [
       "tensor([[1, 2, 3],\n",
       "        [4, 5, 6],\n",
       "        [7, 8, 9]])"
      ]
     },
     "execution_count": 62,
     "metadata": {
      "tags": []
     },
     "output_type": "execute_result"
    }
   ],
   "source": [
    "b=t.tensor([[1,2,3],[4,5,6],[7,8,9]])\n",
    "b"
   ]
  },
  {
   "cell_type": "code",
   "execution_count": null,
   "metadata": {
    "colab": {
     "base_uri": "https://localhost:8080/",
     "height": 119
    },
    "colab_type": "code",
    "executionInfo": {
     "elapsed": 1253,
     "status": "ok",
     "timestamp": 1572956192812,
     "user": {
      "displayName": "anil patidar",
      "photoUrl": "https://lh3.googleusercontent.com/a-/AAuE7mBOpNM26lFln0sQCl4yOtCwHeImpsg3tBaiaNYFrkw=s64",
      "userId": "09103336182194663163"
     },
     "user_tz": -330
    },
    "id": "d9hgw6wwfBIz",
    "outputId": "2d11f545-fc00-44dd-cf24-87cecf2da9dd"
   },
   "outputs": [
    {
     "name": "stdout",
     "output_type": "stream",
     "text": [
      "tensor([[  1,   2,   3],\n",
      "        [  4,  10,  18],\n",
      "        [ 28,  80, 162]])\n"
     ]
    },
    {
     "data": {
      "text/plain": [
       "tensor([[  1,   2,   3],\n",
       "        [  4,  10,  18],\n",
       "        [ 28,  80, 162]])"
      ]
     },
     "execution_count": 74,
     "metadata": {
      "tags": []
     },
     "output_type": "execute_result"
    }
   ],
   "source": [
    "# cumltv product accord to column wise\n",
    "print(b.cumprod(axis=0))\n",
    "b.cumprod(axis=-2)"
   ]
  },
  {
   "cell_type": "code",
   "execution_count": null,
   "metadata": {
    "colab": {
     "base_uri": "https://localhost:8080/",
     "height": 119
    },
    "colab_type": "code",
    "executionInfo": {
     "elapsed": 1085,
     "status": "ok",
     "timestamp": 1572956280172,
     "user": {
      "displayName": "anil patidar",
      "photoUrl": "https://lh3.googleusercontent.com/a-/AAuE7mBOpNM26lFln0sQCl4yOtCwHeImpsg3tBaiaNYFrkw=s64",
      "userId": "09103336182194663163"
     },
     "user_tz": -330
    },
    "id": "l2uZt9LAfdRm",
    "outputId": "77bfc930-78e8-4120-b191-1878fa0be80b"
   },
   "outputs": [
    {
     "name": "stdout",
     "output_type": "stream",
     "text": [
      "tensor([[  1,   2,   6],\n",
      "        [  4,  20, 120],\n",
      "        [  7,  56, 504]])\n"
     ]
    },
    {
     "data": {
      "text/plain": [
       "tensor([[  1,   2,   6],\n",
       "        [  4,  20, 120],\n",
       "        [  7,  56, 504]])"
      ]
     },
     "execution_count": 78,
     "metadata": {
      "tags": []
     },
     "output_type": "execute_result"
    }
   ],
   "source": [
    "# cumltv product accord to rows wise\n",
    "print(b.cumprod(1))\n",
    "b.cumprod(-1)"
   ]
  },
  {
   "cell_type": "markdown",
   "metadata": {
    "colab_type": "text",
    "id": "s1lo7-hdgBhe"
   },
   "source": [
    "# Exponential $(e^x)$"
   ]
  },
  {
   "cell_type": "code",
   "execution_count": null,
   "metadata": {
    "colab": {
     "base_uri": "https://localhost:8080/",
     "height": 88
    },
    "colab_type": "code",
    "executionInfo": {
     "elapsed": 1182,
     "status": "ok",
     "timestamp": 1572956821562,
     "user": {
      "displayName": "anil patidar",
      "photoUrl": "https://lh3.googleusercontent.com/a-/AAuE7mBOpNM26lFln0sQCl4yOtCwHeImpsg3tBaiaNYFrkw=s64",
      "userId": "09103336182194663163"
     },
     "user_tz": -330
    },
    "id": "7IZteRi0iDH2",
    "outputId": "6896b948-c40c-42da-d8b9-2a7f784358dc"
   },
   "outputs": [
    {
     "name": "stderr",
     "output_type": "stream",
     "text": [
      "/usr/local/lib/python3.6/dist-packages/ipykernel_launcher.py:1: UserWarning: torch.range is deprecated in favor of torch.arange and will be removed in 0.5. Note that arange generates values in [start; end), not [start; end].\n",
      "  \"\"\"Entry point for launching an IPython kernel.\n"
     ]
    },
    {
     "data": {
      "text/plain": [
       "tensor([ 4.,  5.,  6.,  7.,  8.,  9., 10., 11., 12.])"
      ]
     },
     "execution_count": 104,
     "metadata": {
      "tags": []
     },
     "output_type": "execute_result"
    }
   ],
   "source": [
    "t.range(4,12)"
   ]
  },
  {
   "cell_type": "code",
   "execution_count": null,
   "metadata": {
    "colab": {
     "base_uri": "https://localhost:8080/",
     "height": 105
    },
    "colab_type": "code",
    "executionInfo": {
     "elapsed": 1030,
     "status": "ok",
     "timestamp": 1572956902270,
     "user": {
      "displayName": "anil patidar",
      "photoUrl": "https://lh3.googleusercontent.com/a-/AAuE7mBOpNM26lFln0sQCl4yOtCwHeImpsg3tBaiaNYFrkw=s64",
      "userId": "09103336182194663163"
     },
     "user_tz": -330
    },
    "id": "lWXSyTyLfuv-",
    "outputId": "8069cf19-774d-4502-db66-839997f6eecb"
   },
   "outputs": [
    {
     "name": "stdout",
     "output_type": "stream",
     "text": [
      "tensor([0, 1], dtype=torch.int32)\n"
     ]
    },
    {
     "name": "stderr",
     "output_type": "stream",
     "text": [
      "/usr/local/lib/python3.6/dist-packages/ipykernel_launcher.py:2: UserWarning: torch.range is deprecated in favor of torch.arange and will be removed in 0.5. Note that arange generates values in [start; end), not [start; end].\n",
      "  \n"
     ]
    },
    {
     "data": {
      "text/plain": [
       "tensor([0., 1., 2., 3., 4., 5., 6., 7.])"
      ]
     },
     "execution_count": 114,
     "metadata": {
      "tags": []
     },
     "output_type": "execute_result"
    }
   ],
   "source": [
    "a=t.arange(2,dtype=t.int)\n",
    "b=t.range(0,7,dtype=t.float)\n",
    "a\n",
    "print(a)\n",
    "b"
   ]
  },
  {
   "cell_type": "code",
   "execution_count": null,
   "metadata": {
    "colab": {
     "base_uri": "https://localhost:8080/",
     "height": 71
    },
    "colab_type": "code",
    "executionInfo": {
     "elapsed": 804,
     "status": "ok",
     "timestamp": 1572956892794,
     "user": {
      "displayName": "anil patidar",
      "photoUrl": "https://lh3.googleusercontent.com/a-/AAuE7mBOpNM26lFln0sQCl4yOtCwHeImpsg3tBaiaNYFrkw=s64",
      "userId": "09103336182194663163"
     },
     "user_tz": -330
    },
    "id": "-UBu9EzjhM6l",
    "outputId": "55486d5e-930f-4ce5-81b6-ed82e0ac6835"
   },
   "outputs": [
    {
     "name": "stdout",
     "output_type": "stream",
     "text": [
      "tensor([1.0000e+00, 2.7183e+00, 7.3891e+00, 2.0086e+01, 5.4598e+01, 1.4841e+02,\n",
      "        4.0343e+02, 1.0966e+03])\n"
     ]
    }
   ],
   "source": [
    "print(t.exp(b))"
   ]
  },
  {
   "cell_type": "code",
   "execution_count": null,
   "metadata": {
    "colab": {
     "base_uri": "https://localhost:8080/",
     "height": 183
    },
    "colab_type": "code",
    "executionInfo": {
     "elapsed": 779,
     "status": "error",
     "timestamp": 1572956960880,
     "user": {
      "displayName": "anil patidar",
      "photoUrl": "https://lh3.googleusercontent.com/a-/AAuE7mBOpNM26lFln0sQCl4yOtCwHeImpsg3tBaiaNYFrkw=s64",
      "userId": "09103336182194663163"
     },
     "user_tz": -330
    },
    "id": "IyGjWI1ViWp6",
    "outputId": "f577cb6d-90f7-4ae6-a377-ca493cd9a43b"
   },
   "outputs": [
    {
     "ename": "RuntimeError",
     "evalue": "ignored",
     "output_type": "error",
     "traceback": [
      "\u001b[0;31m---------------------------------------------------------------------------\u001b[0m",
      "\u001b[0;31mRuntimeError\u001b[0m                              Traceback (most recent call last)",
      "\u001b[0;32m<ipython-input-117-fc7acb4a1266>\u001b[0m in \u001b[0;36m<module>\u001b[0;34m()\u001b[0m\n\u001b[0;32m----> 1\u001b[0;31m \u001b[0mprint\u001b[0m\u001b[0;34m(\u001b[0m\u001b[0mt\u001b[0m\u001b[0;34m.\u001b[0m\u001b[0mexp\u001b[0m\u001b[0;34m(\u001b[0m\u001b[0ma\u001b[0m\u001b[0;34m)\u001b[0m\u001b[0;34m)\u001b[0m\u001b[0;34m\u001b[0m\u001b[0;34m\u001b[0m\u001b[0m\n\u001b[0m",
      "\u001b[0;31mRuntimeError\u001b[0m: exp_vml_cpu not implemented for 'Int'"
     ]
    }
   ],
   "source": [
    "print(t.exp(a))"
   ]
  },
  {
   "cell_type": "markdown",
   "metadata": {
    "colab_type": "text",
    "id": "XCmmU8Yiirrq"
   },
   "source": [
    "## ALL & ANY"
   ]
  },
  {
   "cell_type": "markdown",
   "metadata": {
    "colab_type": "text",
    "id": "jDjim7kojuks"
   },
   "source": [
    "#### ONly support for boolean data type only"
   ]
  },
  {
   "cell_type": "code",
   "execution_count": null,
   "metadata": {
    "colab": {
     "base_uri": "https://localhost:8080/",
     "height": 34
    },
    "colab_type": "code",
    "executionInfo": {
     "elapsed": 916,
     "status": "ok",
     "timestamp": 1572957066926,
     "user": {
      "displayName": "anil patidar",
      "photoUrl": "https://lh3.googleusercontent.com/a-/AAuE7mBOpNM26lFln0sQCl4yOtCwHeImpsg3tBaiaNYFrkw=s64",
      "userId": "09103336182194663163"
     },
     "user_tz": -330
    },
    "id": "ZFQvpjnOinRv",
    "outputId": "44cb9d44-3924-4415-ef6d-2c566b006fea"
   },
   "outputs": [
    {
     "data": {
      "text/plain": [
       "tensor(False)"
      ]
     },
     "execution_count": 123,
     "metadata": {
      "tags": []
     },
     "output_type": "execute_result"
    }
   ],
   "source": [
    "# ALL value True then \"True\" otherwise false\n",
    "a=t.tensor([(True,True),(True,False)])\n",
    "t.all(a)"
   ]
  },
  {
   "cell_type": "code",
   "execution_count": null,
   "metadata": {
    "colab": {
     "base_uri": "https://localhost:8080/",
     "height": 34
    },
    "colab_type": "code",
    "executionInfo": {
     "elapsed": 960,
     "status": "ok",
     "timestamp": 1572957241846,
     "user": {
      "displayName": "anil patidar",
      "photoUrl": "https://lh3.googleusercontent.com/a-/AAuE7mBOpNM26lFln0sQCl4yOtCwHeImpsg3tBaiaNYFrkw=s64",
      "userId": "09103336182194663163"
     },
     "user_tz": -330
    },
    "id": "KaFogW4biqpy",
    "outputId": "0827899b-4c0a-4502-a2cc-ff66d176b245"
   },
   "outputs": [
    {
     "data": {
      "text/plain": [
       "tensor(True)"
      ]
     },
     "execution_count": 132,
     "metadata": {
      "tags": []
     },
     "output_type": "execute_result"
    }
   ],
   "source": [
    "a=t.tensor([(True,True),(True,True)])\n",
    "t.all(a)"
   ]
  },
  {
   "cell_type": "code",
   "execution_count": null,
   "metadata": {
    "colab": {},
    "colab_type": "code",
    "id": "zfxxfqHXjEBj"
   },
   "outputs": [],
   "source": [
    "# ANY value in True then \"TRUE\", only when all r false thn \"False\""
   ]
  },
  {
   "cell_type": "code",
   "execution_count": null,
   "metadata": {
    "colab": {
     "base_uri": "https://localhost:8080/",
     "height": 34
    },
    "colab_type": "code",
    "executionInfo": {
     "elapsed": 826,
     "status": "ok",
     "timestamp": 1572957197382,
     "user": {
      "displayName": "anil patidar",
      "photoUrl": "https://lh3.googleusercontent.com/a-/AAuE7mBOpNM26lFln0sQCl4yOtCwHeImpsg3tBaiaNYFrkw=s64",
      "userId": "09103336182194663163"
     },
     "user_tz": -330
    },
    "id": "f0sfoeVqjFyR",
    "outputId": "b1889fc7-f8e0-4b1a-f4b9-2d4967b8cce8"
   },
   "outputs": [
    {
     "data": {
      "text/plain": [
       "tensor(True)"
      ]
     },
     "execution_count": 128,
     "metadata": {
      "tags": []
     },
     "output_type": "execute_result"
    }
   ],
   "source": [
    "a=t.tensor([(True,True),(True,False)])\n",
    "t.any(a)"
   ]
  },
  {
   "cell_type": "code",
   "execution_count": null,
   "metadata": {
    "colab": {
     "base_uri": "https://localhost:8080/",
     "height": 34
    },
    "colab_type": "code",
    "executionInfo": {
     "elapsed": 1000,
     "status": "ok",
     "timestamp": 1572957291598,
     "user": {
      "displayName": "anil patidar",
      "photoUrl": "https://lh3.googleusercontent.com/a-/AAuE7mBOpNM26lFln0sQCl4yOtCwHeImpsg3tBaiaNYFrkw=s64",
      "userId": "09103336182194663163"
     },
     "user_tz": -330
    },
    "id": "qL2jGKobjhAN",
    "outputId": "1db9ddfd-c460-4cfa-d045-68dcefd1033e"
   },
   "outputs": [
    {
     "data": {
      "text/plain": [
       "tensor(False)"
      ]
     },
     "execution_count": 133,
     "metadata": {
      "tags": []
     },
     "output_type": "execute_result"
    }
   ],
   "source": [
    "a=t.tensor([(False,False),(False,False)])\n",
    "t.any(a)"
   ]
  },
  {
   "cell_type": "markdown",
   "metadata": {
    "colab_type": "text",
    "id": "eVJiMErej4bg"
   },
   "source": [
    "# nan (None)"
   ]
  },
  {
   "cell_type": "code",
   "execution_count": null,
   "metadata": {
    "colab": {
     "base_uri": "https://localhost:8080/",
     "height": 200
    },
    "colab_type": "code",
    "executionInfo": {
     "elapsed": 835,
     "status": "error",
     "timestamp": 1572957620033,
     "user": {
      "displayName": "anil patidar",
      "photoUrl": "https://lh3.googleusercontent.com/a-/AAuE7mBOpNM26lFln0sQCl4yOtCwHeImpsg3tBaiaNYFrkw=s64",
      "userId": "09103336182194663163"
     },
     "user_tz": -330
    },
    "id": "UC8hTVT0j38d",
    "outputId": "aaffc5a9-bc51-4896-c134-ac5f0eb29821"
   },
   "outputs": [
    {
     "ename": "AttributeError",
     "evalue": "ignored",
     "output_type": "error",
     "traceback": [
      "\u001b[0;31m---------------------------------------------------------------------------\u001b[0m",
      "\u001b[0;31mAttributeError\u001b[0m                            Traceback (most recent call last)",
      "\u001b[0;32m<ipython-input-138-82bd1a0abd50>\u001b[0m in \u001b[0;36m<module>\u001b[0;34m()\u001b[0m\n\u001b[0;32m----> 1\u001b[0;31m \u001b[0ma\u001b[0m\u001b[0;34m=\u001b[0m\u001b[0mt\u001b[0m\u001b[0;34m.\u001b[0m\u001b[0mtensor\u001b[0m\u001b[0;34m(\u001b[0m\u001b[0;34m[\u001b[0m\u001b[0mt\u001b[0m\u001b[0;34m.\u001b[0m\u001b[0mnan\u001b[0m\u001b[0;34m,\u001b[0m\u001b[0;36m1\u001b[0m\u001b[0;34m,\u001b[0m\u001b[0;36m2\u001b[0m\u001b[0;34m]\u001b[0m\u001b[0;34m)\u001b[0m\u001b[0;34m\u001b[0m\u001b[0;34m\u001b[0m\u001b[0m\n\u001b[0m\u001b[1;32m      2\u001b[0m \u001b[0mt\u001b[0m\u001b[0;34m.\u001b[0m\u001b[0mnan\u001b[0m\u001b[0;34m(\u001b[0m\u001b[0ma\u001b[0m\u001b[0;34m)\u001b[0m\u001b[0;34m\u001b[0m\u001b[0;34m\u001b[0m\u001b[0m\n",
      "\u001b[0;31mAttributeError\u001b[0m: module 'torch' has no attribute 'nan'"
     ]
    }
   ],
   "source": [
    "a=t.tensor([t.nan,1,2])\n",
    "t.nan(a)"
   ]
  },
  {
   "cell_type": "code",
   "execution_count": null,
   "metadata": {
    "colab": {
     "base_uri": "https://localhost:8080/",
     "height": 68
    },
    "colab_type": "code",
    "executionInfo": {
     "elapsed": 933,
     "status": "ok",
     "timestamp": 1572957688979,
     "user": {
      "displayName": "anil patidar",
      "photoUrl": "https://lh3.googleusercontent.com/a-/AAuE7mBOpNM26lFln0sQCl4yOtCwHeImpsg3tBaiaNYFrkw=s64",
      "userId": "09103336182194663163"
     },
     "user_tz": -330
    },
    "id": "ptQiJvm6lIL5",
    "outputId": "04956de6-cfbe-4b9b-cc0e-df3de9b47a9b"
   },
   "outputs": [
    {
     "data": {
      "text/plain": [
       "tensor([[1, 2, 3],\n",
       "        [4, 5, 6],\n",
       "        [7, 8, 9]])"
      ]
     },
     "execution_count": 142,
     "metadata": {
      "tags": []
     },
     "output_type": "execute_result"
    }
   ],
   "source": [
    "a=t.tensor([[1,2,3],[4,5,6],[7,8,9]])\n",
    "a"
   ]
  },
  {
   "cell_type": "code",
   "execution_count": null,
   "metadata": {
    "colab": {
     "base_uri": "https://localhost:8080/",
     "height": 183
    },
    "colab_type": "code",
    "executionInfo": {
     "elapsed": 997,
     "status": "error",
     "timestamp": 1572957690261,
     "user": {
      "displayName": "anil patidar",
      "photoUrl": "https://lh3.googleusercontent.com/a-/AAuE7mBOpNM26lFln0sQCl4yOtCwHeImpsg3tBaiaNYFrkw=s64",
      "userId": "09103336182194663163"
     },
     "user_tz": -330
    },
    "id": "EQc4Sh6dlOun",
    "outputId": "5a896c36-e252-4910-e3aa-c941ed47edf4"
   },
   "outputs": [
    {
     "ename": "AttributeError",
     "evalue": "ignored",
     "output_type": "error",
     "traceback": [
      "\u001b[0;31m---------------------------------------------------------------------------\u001b[0m",
      "\u001b[0;31mAttributeError\u001b[0m                            Traceback (most recent call last)",
      "\u001b[0;32m<ipython-input-143-33f3962c1bd6>\u001b[0m in \u001b[0;36m<module>\u001b[0;34m()\u001b[0m\n\u001b[0;32m----> 1\u001b[0;31m \u001b[0mt\u001b[0m\u001b[0;34m.\u001b[0m\u001b[0mapply_along_axis\u001b[0m\u001b[0;34m(\u001b[0m\u001b[0ma\u001b[0m\u001b[0;34m)\u001b[0m\u001b[0;34m\u001b[0m\u001b[0;34m\u001b[0m\u001b[0m\n\u001b[0m",
      "\u001b[0;31mAttributeError\u001b[0m: module 'torch' has no attribute 'apply_along_axis'"
     ]
    }
   ],
   "source": [
    "t.apply_along_axis(a)"
   ]
  },
  {
   "cell_type": "markdown",
   "metadata": {
    "colab_type": "text",
    "id": "xZbEfULSlcd3"
   },
   "source": [
    "### Argmax"
   ]
  },
  {
   "cell_type": "code",
   "execution_count": null,
   "metadata": {
    "colab": {
     "base_uri": "https://localhost:8080/",
     "height": 68
    },
    "colab_type": "code",
    "executionInfo": {
     "elapsed": 1119,
     "status": "ok",
     "timestamp": 1572958113634,
     "user": {
      "displayName": "anil patidar",
      "photoUrl": "https://lh3.googleusercontent.com/a-/AAuE7mBOpNM26lFln0sQCl4yOtCwHeImpsg3tBaiaNYFrkw=s64",
      "userId": "09103336182194663163"
     },
     "user_tz": -330
    },
    "id": "B-hvqEMMlknJ",
    "outputId": "a230a8aa-8000-4a3e-b1d6-af9107c77391"
   },
   "outputs": [
    {
     "data": {
      "text/plain": [
       "tensor([[1, 8, 3],\n",
       "        [4, 0, 6],\n",
       "        [7, 8, 1]])"
      ]
     },
     "execution_count": 174,
     "metadata": {
      "tags": []
     },
     "output_type": "execute_result"
    }
   ],
   "source": [
    "a=t.tensor([[1,8,3],[4,0,6],[7,8,1]])\n",
    "a"
   ]
  },
  {
   "cell_type": "code",
   "execution_count": null,
   "metadata": {
    "colab": {
     "base_uri": "https://localhost:8080/",
     "height": 34
    },
    "colab_type": "code",
    "executionInfo": {
     "elapsed": 1027,
     "status": "ok",
     "timestamp": 1572958116860,
     "user": {
      "displayName": "anil patidar",
      "photoUrl": "https://lh3.googleusercontent.com/a-/AAuE7mBOpNM26lFln0sQCl4yOtCwHeImpsg3tBaiaNYFrkw=s64",
      "userId": "09103336182194663163"
     },
     "user_tz": -330
    },
    "id": "Hy4mNgLlll2X",
    "outputId": "d9f8b732-9096-4784-a616-6daeab36f89e"
   },
   "outputs": [
    {
     "data": {
      "text/plain": [
       "tensor(7)"
      ]
     },
     "execution_count": 175,
     "metadata": {
      "tags": []
     },
     "output_type": "execute_result"
    }
   ],
   "source": [
    "# print max valie index\n",
    "a.argmax()   # 7 means ,if we start elmnt from start with index 0, then 7th index value is maximum"
   ]
  },
  {
   "cell_type": "code",
   "execution_count": null,
   "metadata": {
    "colab": {
     "base_uri": "https://localhost:8080/",
     "height": 34
    },
    "colab_type": "code",
    "executionInfo": {
     "elapsed": 978,
     "status": "ok",
     "timestamp": 1572957876196,
     "user": {
      "displayName": "anil patidar",
      "photoUrl": "https://lh3.googleusercontent.com/a-/AAuE7mBOpNM26lFln0sQCl4yOtCwHeImpsg3tBaiaNYFrkw=s64",
      "userId": "09103336182194663163"
     },
     "user_tz": -330
    },
    "id": "CWbuIW2rlp3a",
    "outputId": "0f8ca3d2-f46f-4709-b079-2abd327ad436"
   },
   "outputs": [
    {
     "data": {
      "text/plain": [
       "tensor([2, 2, 1])"
      ]
     },
     "execution_count": 157,
     "metadata": {
      "tags": []
     },
     "output_type": "execute_result"
    }
   ],
   "source": [
    "# max elmnt for each column\n",
    "a.argmax(axis=0)"
   ]
  },
  {
   "cell_type": "code",
   "execution_count": null,
   "metadata": {
    "colab": {
     "base_uri": "https://localhost:8080/",
     "height": 34
    },
    "colab_type": "code",
    "executionInfo": {
     "elapsed": 745,
     "status": "ok",
     "timestamp": 1572957888812,
     "user": {
      "displayName": "anil patidar",
      "photoUrl": "https://lh3.googleusercontent.com/a-/AAuE7mBOpNM26lFln0sQCl4yOtCwHeImpsg3tBaiaNYFrkw=s64",
      "userId": "09103336182194663163"
     },
     "user_tz": -330
    },
    "id": "NUs6fTvwl1qS",
    "outputId": "df4405ab-a7fe-483c-80ec-4d12eb0cd52c"
   },
   "outputs": [
    {
     "data": {
      "text/plain": [
       "tensor([1, 2, 1])"
      ]
     },
     "execution_count": 158,
     "metadata": {
      "tags": []
     },
     "output_type": "execute_result"
    }
   ],
   "source": [
    "#  max elmnt for each rows\n",
    "a.argmax(1)   # 1 means axis=1"
   ]
  },
  {
   "cell_type": "code",
   "execution_count": 4,
   "metadata": {
    "colab": {
     "base_uri": "https://localhost:8080/",
     "height": 136
    },
    "colab_type": "code",
    "executionInfo": {
     "elapsed": 950,
     "status": "ok",
     "timestamp": 1572958687304,
     "user": {
      "displayName": "anil patidar",
      "photoUrl": "https://lh3.googleusercontent.com/a-/AAuE7mBOpNM26lFln0sQCl4yOtCwHeImpsg3tBaiaNYFrkw=s64",
      "userId": "09103336182194663163"
     },
     "user_tz": -330
    },
    "id": "5lSLzu2DpJor",
    "outputId": "5268d477-a7cc-409f-f525-21833c85c2c7"
   },
   "outputs": [
    {
     "data": {
      "text/plain": [
       "tensor([[[ 0,  1,  2],\n",
       "         [ 3,  4,  5],\n",
       "         [ 6,  7,  8]],\n",
       "\n",
       "        [[ 9, 10, 11],\n",
       "         [12, 13, 14],\n",
       "         [15, 16, 17]]])"
      ]
     },
     "execution_count": 4,
     "metadata": {},
     "output_type": "execute_result"
    }
   ],
   "source": [
    "c=t.arange(18).reshape(2,3,3)\n",
    "c"
   ]
  },
  {
   "cell_type": "code",
   "execution_count": 5,
   "metadata": {
    "colab": {
     "base_uri": "https://localhost:8080/",
     "height": 34
    },
    "colab_type": "code",
    "executionInfo": {
     "elapsed": 1008,
     "status": "ok",
     "timestamp": 1572958715886,
     "user": {
      "displayName": "anil patidar",
      "photoUrl": "https://lh3.googleusercontent.com/a-/AAuE7mBOpNM26lFln0sQCl4yOtCwHeImpsg3tBaiaNYFrkw=s64",
      "userId": "09103336182194663163"
     },
     "user_tz": -330
    },
    "id": "lEAkJX9UpOqM",
    "outputId": "7b09efa1-1bd9-441f-ebea-622fa91d6477"
   },
   "outputs": [
    {
     "data": {
      "text/plain": [
       "tensor(17)"
      ]
     },
     "execution_count": 5,
     "metadata": {},
     "output_type": "execute_result"
    }
   ],
   "source": [
    "c.argmax()"
   ]
  },
  {
   "cell_type": "code",
   "execution_count": null,
   "metadata": {
    "colab": {
     "base_uri": "https://localhost:8080/",
     "height": 68
    },
    "colab_type": "code",
    "executionInfo": {
     "elapsed": 1118,
     "status": "ok",
     "timestamp": 1572958736237,
     "user": {
      "displayName": "anil patidar",
      "photoUrl": "https://lh3.googleusercontent.com/a-/AAuE7mBOpNM26lFln0sQCl4yOtCwHeImpsg3tBaiaNYFrkw=s64",
      "userId": "09103336182194663163"
     },
     "user_tz": -330
    },
    "id": "JT-2gMKypV_-",
    "outputId": "739e5b3a-6bf4-4794-f8d0-9bb6913f22f9"
   },
   "outputs": [
    {
     "data": {
      "text/plain": [
       "tensor([[1, 1, 1],\n",
       "        [1, 1, 1],\n",
       "        [1, 1, 1]])"
      ]
     },
     "execution_count": 193,
     "metadata": {
      "tags": []
     },
     "output_type": "execute_result"
    }
   ],
   "source": [
    "# if there r we have only 1 array then we got 0,0,0 like this., bcoz each elemnt comapre himself for [axis=0]\n",
    "c.argmax(axis=0) # 0 comapre to 9  1 to 10 so bcox axis=0 means every elemtn for self array\n",
    "# but there r we have 2 array so we comapring with correspondence index of 2nd array"
   ]
  },
  {
   "cell_type": "code",
   "execution_count": 6,
   "metadata": {
    "colab": {
     "base_uri": "https://localhost:8080/",
     "height": 51
    },
    "colab_type": "code",
    "executionInfo": {
     "elapsed": 1002,
     "status": "ok",
     "timestamp": 1572959451596,
     "user": {
      "displayName": "anil patidar",
      "photoUrl": "https://lh3.googleusercontent.com/a-/AAuE7mBOpNM26lFln0sQCl4yOtCwHeImpsg3tBaiaNYFrkw=s64",
      "userId": "09103336182194663163"
     },
     "user_tz": -330
    },
    "id": "G-Za5R8NpOPW",
    "outputId": "247d2374-a277-4d52-a9b4-e3e94aaa061c"
   },
   "outputs": [
    {
     "data": {
      "text/plain": [
       "tensor([[2, 2, 2],\n",
       "        [2, 2, 2]])"
      ]
     },
     "execution_count": 6,
     "metadata": {},
     "output_type": "execute_result"
    }
   ],
   "source": [
    "# in 3D array, axis=1 means \"Column wise\"\n",
    "# findout for each column max elmnt for seprate array index, so we got 6 indexes\n",
    "# [0,3,6] 1st column,  [1,4,7] 2nd column and [9,12,15] like this we compare indexes indexing compare\n",
    "c.argmax(1) "
   ]
  },
  {
   "cell_type": "code",
   "execution_count": 7,
   "metadata": {
    "colab": {
     "base_uri": "https://localhost:8080/",
     "height": 51
    },
    "colab_type": "code",
    "executionInfo": {
     "elapsed": 995,
     "status": "ok",
     "timestamp": 1572959463405,
     "user": {
      "displayName": "anil patidar",
      "photoUrl": "https://lh3.googleusercontent.com/a-/AAuE7mBOpNM26lFln0sQCl4yOtCwHeImpsg3tBaiaNYFrkw=s64",
      "userId": "09103336182194663163"
     },
     "user_tz": -330
    },
    "id": "pbhdmQN6sC4b",
    "outputId": "6d0cf6ae-55dc-4f34-94e8-308e24e0a87b"
   },
   "outputs": [
    {
     "data": {
      "text/plain": [
       "tensor([[2, 2, 2],\n",
       "        [2, 2, 2]])"
      ]
     },
     "execution_count": 7,
     "metadata": {},
     "output_type": "execute_result"
    }
   ],
   "source": [
    "# in 3D array, axis=2 means \"Row wise\"\n",
    "# findout for each rows max elmnt for both seprate array index, so we got 6 indexes\n",
    "# [0,1,2] 1st row,  [3,4,5] 2nd row like this indexing compare \n",
    "c.argmax(2)"
   ]
  },
  {
   "cell_type": "markdown",
   "metadata": {
    "colab_type": "text",
    "id": "g6h4pbPnmMaD"
   },
   "source": [
    "## Argmin"
   ]
  },
  {
   "cell_type": "code",
   "execution_count": 10,
   "metadata": {
    "colab": {
     "base_uri": "https://localhost:8080/",
     "height": 68
    },
    "colab_type": "code",
    "executionInfo": {
     "elapsed": 1066,
     "status": "ok",
     "timestamp": 1572958076179,
     "user": {
      "displayName": "anil patidar",
      "photoUrl": "https://lh3.googleusercontent.com/a-/AAuE7mBOpNM26lFln0sQCl4yOtCwHeImpsg3tBaiaNYFrkw=s64",
      "userId": "09103336182194663163"
     },
     "user_tz": -330
    },
    "id": "5kFV7RmkmJ0C",
    "outputId": "23b6c45a-963e-427a-aedf-146efd83a677"
   },
   "outputs": [
    {
     "data": {
      "text/plain": [
       "tensor([[[44, 56, 13],\n",
       "         [14, 15, 26],\n",
       "         [22, 12, 33]]])"
      ]
     },
     "execution_count": 10,
     "metadata": {},
     "output_type": "execute_result"
    }
   ],
   "source": [
    "b=t.tensor([[[44,56,13],[14,15,26],[22,12,33]]])\n",
    "b"
   ]
  },
  {
   "cell_type": "code",
   "execution_count": 11,
   "metadata": {},
   "outputs": [
    {
     "data": {
      "text/plain": [
       "tensor(7)"
      ]
     },
     "execution_count": 11,
     "metadata": {},
     "output_type": "execute_result"
    }
   ],
   "source": [
    "b.argmin()    # 7 means, min elemnt find at 7 possition"
   ]
  },
  {
   "cell_type": "code",
   "execution_count": 12,
   "metadata": {},
   "outputs": [
    {
     "data": {
      "text/plain": [
       "tensor([[0, 0, 0],\n",
       "        [0, 0, 0],\n",
       "        [0, 0, 0]])"
      ]
     },
     "execution_count": 12,
     "metadata": {},
     "output_type": "execute_result"
    }
   ],
   "source": [
    "b.argmin(axis=0)  3 every elmnt comparre himself so we got all zero"
   ]
  },
  {
   "cell_type": "code",
   "execution_count": 13,
   "metadata": {},
   "outputs": [
    {
     "data": {
      "text/plain": [
       "tensor([[1, 2, 0]])"
      ]
     },
     "execution_count": 13,
     "metadata": {},
     "output_type": "execute_result"
    }
   ],
   "source": [
    "b.argmin(axis=1)  # accord to each column wise"
   ]
  },
  {
   "cell_type": "code",
   "execution_count": 14,
   "metadata": {},
   "outputs": [
    {
     "data": {
      "text/plain": [
       "tensor([[2, 0, 1]])"
      ]
     },
     "execution_count": 14,
     "metadata": {},
     "output_type": "execute_result"
    }
   ],
   "source": [
    "b.argmin(axis=2)  # accord to each rows wise"
   ]
  },
  {
   "cell_type": "code",
   "execution_count": 4,
   "metadata": {
    "colab": {
     "base_uri": "https://localhost:8080/",
     "height": 136
    },
    "colab_type": "code",
    "executionInfo": {
     "elapsed": 987,
     "status": "ok",
     "timestamp": 1572958372745,
     "user": {
      "displayName": "anil patidar",
      "photoUrl": "https://lh3.googleusercontent.com/a-/AAuE7mBOpNM26lFln0sQCl4yOtCwHeImpsg3tBaiaNYFrkw=s64",
      "userId": "09103336182194663163"
     },
     "user_tz": -330
    },
    "id": "oquaEl7sn4__",
    "outputId": "b090c6a9-8473-4cad-a6c8-cc6dc17a56dd"
   },
   "outputs": [
    {
     "data": {
      "text/plain": [
       "tensor([[[ 0,  1,  2],\n",
       "         [ 3,  4,  5],\n",
       "         [ 6,  7,  8]],\n",
       "\n",
       "        [[ 9, 10, 11],\n",
       "         [12, 13, 14],\n",
       "         [15, 16, 17]]])"
      ]
     },
     "execution_count": 4,
     "metadata": {},
     "output_type": "execute_result"
    }
   ],
   "source": [
    "c=t.arange(18).reshape(2,3,3)\n",
    "c"
   ]
  },
  {
   "cell_type": "code",
   "execution_count": 25,
   "metadata": {
    "colab": {
     "base_uri": "https://localhost:8080/",
     "height": 51
    },
    "colab_type": "code",
    "executionInfo": {
     "elapsed": 1258,
     "status": "ok",
     "timestamp": 1572958396873,
     "user": {
      "displayName": "anil patidar",
      "photoUrl": "https://lh3.googleusercontent.com/a-/AAuE7mBOpNM26lFln0sQCl4yOtCwHeImpsg3tBaiaNYFrkw=s64",
      "userId": "09103336182194663163"
     },
     "user_tz": -330
    },
    "id": "8Spfkcu7mdfI",
    "outputId": "58bd1e83-b015-4613-f405-b00e06216b84"
   },
   "outputs": [
    {
     "name": "stdout",
     "output_type": "stream",
     "text": [
      "tensor(0)\n"
     ]
    }
   ],
   "source": [
    "# mim elemnt index return\n",
    "print(c.argmin())  # same put all elmnt in a row , index from 0 , n return min elmnt index"
   ]
  },
  {
   "cell_type": "code",
   "execution_count": 29,
   "metadata": {
    "colab": {
     "base_uri": "https://localhost:8080/",
     "height": 68
    },
    "colab_type": "code",
    "executionInfo": {
     "elapsed": 874,
     "status": "ok",
     "timestamp": 1572958541018,
     "user": {
      "displayName": "anil patidar",
      "photoUrl": "https://lh3.googleusercontent.com/a-/AAuE7mBOpNM26lFln0sQCl4yOtCwHeImpsg3tBaiaNYFrkw=s64",
      "userId": "09103336182194663163"
     },
     "user_tz": -330
    },
    "id": "G10R91xdmjvd",
    "outputId": "0b3abf3d-01e4-4437-f87e-3658994d0d50"
   },
   "outputs": [
    {
     "data": {
      "text/plain": [
       "tensor([[0, 0, 0],\n",
       "        [0, 0, 0],\n",
       "        [0, 0, 0]])"
      ]
     },
     "execution_count": 29,
     "metadata": {},
     "output_type": "execute_result"
    }
   ],
   "source": [
    "# if there r we have only 1 array then we also got 0,0,0 like this., bcoz each elemnt comapre himself for [axis=0]\n",
    "c.argmin(axis=0) # 0 comapre to 9  1 to 10 so bcox axis=0 means every elemtn for self array\n",
    "# but there r we have 2 array so we comapring with correspondence index of 2nd array"
   ]
  },
  {
   "cell_type": "code",
   "execution_count": 41,
   "metadata": {
    "colab": {
     "base_uri": "https://localhost:8080/",
     "height": 68
    },
    "colab_type": "code",
    "executionInfo": {
     "elapsed": 996,
     "status": "ok",
     "timestamp": 1572958602326,
     "user": {
      "displayName": "anil patidar",
      "photoUrl": "https://lh3.googleusercontent.com/a-/AAuE7mBOpNM26lFln0sQCl4yOtCwHeImpsg3tBaiaNYFrkw=s64",
      "userId": "09103336182194663163"
     },
     "user_tz": -330
    },
    "id": "jFhBfzqenall",
    "outputId": "b577a725-b9b9-4cb2-9bdf-03c207f0b133"
   },
   "outputs": [
    {
     "data": {
      "text/plain": [
       "tensor([[0, 0, 0],\n",
       "        [0, 0, 0]])"
      ]
     },
     "execution_count": 41,
     "metadata": {},
     "output_type": "execute_result"
    }
   ],
   "source": [
    "# in 3D array, axis=1means \"Column wise\"\n",
    "# findout for each column max elmnt for seprate array index, so we got 6 indexes\n",
    "# [0,3,6] 1st column,  [1,4,7] 2nd column and [9,12,15] like this we compare indexes indexing compare\n",
    "c.argmin(axis=1)"
   ]
  },
  {
   "cell_type": "code",
   "execution_count": 5,
   "metadata": {},
   "outputs": [
    {
     "data": {
      "text/plain": [
       "tensor([[0, 0, 0],\n",
       "        [0, 0, 0]])"
      ]
     },
     "execution_count": 5,
     "metadata": {},
     "output_type": "execute_result"
    }
   ],
   "source": [
    "# in 3D array, axis=2 means \"Row wise\"\n",
    "# findout for each rows max elmnt index so we got 6 indexes\n",
    "# [0,1,2] 1st rows,  [3,4,5] 2nd rows, [9,10,11]  like this indexing compare\n",
    "c.argmin(axis=2)  # every elmnt of each row is minimum"
   ]
  },
  {
   "cell_type": "markdown",
   "metadata": {},
   "source": [
    "## Argsort"
   ]
  },
  {
   "cell_type": "code",
   "execution_count": 7,
   "metadata": {},
   "outputs": [
    {
     "data": {
      "text/plain": [
       "tensor([0, 2, 1, 5, 4, 3])"
      ]
     },
     "execution_count": 7,
     "metadata": {},
     "output_type": "execute_result"
    }
   ],
   "source": [
    "a=t.tensor([1,5,4,88,14,6])\n",
    "a.argsort()  # show index accord to its value in increasing order"
   ]
  },
  {
   "cell_type": "code",
   "execution_count": 32,
   "metadata": {},
   "outputs": [
    {
     "name": "stdout",
     "output_type": "stream",
     "text": [
      "tensor([[ 10,   5,  78],\n",
      "        [  1, 108,  98],\n",
      "        [ 90,  72,   2]])\n"
     ]
    }
   ],
   "source": [
    "b=t.tensor([[10,5,78],[1,108,98],[90,72,2]])\n",
    "print(b)"
   ]
  },
  {
   "cell_type": "code",
   "execution_count": 33,
   "metadata": {},
   "outputs": [
    {
     "data": {
      "text/plain": [
       "tensor([[1, 0, 2],\n",
       "        [0, 2, 1],\n",
       "        [2, 1, 0]])"
      ]
     },
     "execution_count": 33,
     "metadata": {},
     "output_type": "execute_result"
    }
   ],
   "source": [
    "b.argsort()  # byfefault \"row wise\" agrgumnt sorting, like axis=1 also same as"
   ]
  },
  {
   "cell_type": "code",
   "execution_count": 35,
   "metadata": {},
   "outputs": [
    {
     "data": {
      "text/plain": [
       "tensor([[1, 0, 2],\n",
       "        [0, 2, 1],\n",
       "        [2, 1, 0]])"
      ]
     },
     "execution_count": 35,
     "metadata": {},
     "output_type": "execute_result"
    }
   ],
   "source": [
    "# row wise argumnt sorting\n",
    "b.argsort(axis=1)  # its look like Default argmnt sorting without given axis"
   ]
  },
  {
   "cell_type": "markdown",
   "metadata": {},
   "source": [
    "# bug in argsort"
   ]
  },
  {
   "cell_type": "code",
   "execution_count": 24,
   "metadata": {},
   "outputs": [
    {
     "data": {
      "text/plain": [
       "tensor([[1, 0, 2],\n",
       "        [0, 2, 0],\n",
       "        [2, 1, 1]])"
      ]
     },
     "execution_count": 24,
     "metadata": {},
     "output_type": "execute_result"
    }
   ],
   "source": [
    "b.argsort(axis=0)  # bcoz 98>78 so i not got correct output\n",
    "# if i replace 98 with less than 78 , thn i got correct output"
   ]
  },
  {
   "cell_type": "code",
   "execution_count": 26,
   "metadata": {},
   "outputs": [
    {
     "name": "stdout",
     "output_type": "stream",
     "text": [
      "tensor([[ 10,   5,  78],\n",
      "        [  1, 108,  68],\n",
      "        [ 90,  72,   2]])\n"
     ]
    }
   ],
   "source": [
    "b=t.tensor([[10,5,78],[1,108,68],[90,72,2]])\n",
    "print(b)"
   ]
  },
  {
   "cell_type": "markdown",
   "metadata": {},
   "source": [
    "## we got correct output"
   ]
  },
  {
   "cell_type": "code",
   "execution_count": 27,
   "metadata": {},
   "outputs": [
    {
     "data": {
      "text/plain": [
       "tensor([[1, 0, 2],\n",
       "        [0, 2, 1],\n",
       "        [2, 1, 0]])"
      ]
     },
     "execution_count": 27,
     "metadata": {},
     "output_type": "execute_result"
    }
   ],
   "source": [
    "# column wise argsorting\n",
    "b.argsort(axis=0)"
   ]
  }
 ],
 "metadata": {
  "colab": {
   "collapsed_sections": [],
   "name": "Torch Univ. Functions.ipynb",
   "provenance": []
  },
  "kernelspec": {
   "display_name": "Python 3",
   "language": "python",
   "name": "python3"
  },
  "language_info": {
   "codemirror_mode": {
    "name": "ipython",
    "version": 3
   },
   "file_extension": ".py",
   "mimetype": "text/x-python",
   "name": "python",
   "nbconvert_exporter": "python",
   "pygments_lexer": "ipython3",
   "version": "3.7.4"
  }
 },
 "nbformat": 4,
 "nbformat_minor": 4
}
